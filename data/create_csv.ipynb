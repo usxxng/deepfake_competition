{
 "cells": [
  {
   "cell_type": "code",
   "execution_count": 3,
   "metadata": {},
   "outputs": [
    {
     "name": "stdout",
     "output_type": "stream",
     "text": [
      "     image_name target patient_id image_number\n",
      "0       1-1.tif      0          1        1.tif\n",
      "1       1-2.tif      0          1        2.tif\n",
      "2       1-3.tif      0          1        3.tif\n",
      "3       1-4.tif      0          1        4.tif\n",
      "4      10-1.tif      0         10        1.tif\n",
      "...         ...    ...        ...          ...\n",
      "1915   77-4.tif      1         77        4.tif\n",
      "1916   92-1.tif      1         92        1.tif\n",
      "1917   92-2.tif      1         92        2.tif\n",
      "1918   92-3.tif      1         92        3.tif\n",
      "1919   92-4.tif      1         92        4.tif\n",
      "\n",
      "[1920 rows x 4 columns]\n",
      "csv 파일 저장 완료!\n"
     ]
    }
   ],
   "source": [
    "# 라이브러리 불러오기\n",
    "import os\n",
    "import pandas as pd\n",
    "import numpy as np\n",
    "\n",
    "# 경로 지정 (폴더 위치에 따라 수정이 필요함 *현재는 바탕화면 기준)\n",
    "path_nrm = \"./Validation/Normal\"\n",
    "path_cbd = \"./Validation/CBD stones\"\n",
    "\n",
    "file_list = os.listdir(path_nrm)\n",
    "file_list_cbd = os.listdir(path_cbd)\n",
    "\n",
    "# data frame 생성\n",
    "df1 = pd.DataFrame(file_list, columns=['image_name'])\n",
    "df2 = pd.DataFrame(file_list_cbd, columns=['image_name'])\n",
    "\n",
    "\n",
    "df1."
   ]
  },
  {
   "cell_type": "code",
   "execution_count": null,
   "metadata": {},
   "outputs": [],
   "source": []
  }
 ],
 "metadata": {
  "kernelspec": {
   "display_name": "Python 3",
   "language": "python",
   "name": "python3"
  },
  "language_info": {
   "codemirror_mode": {
    "name": "ipython",
    "version": 3
   },
   "file_extension": ".py",
   "mimetype": "text/x-python",
   "name": "python",
   "nbconvert_exporter": "python",
   "pygments_lexer": "ipython3",
   "version": "3.8.3"
  }
 },
 "nbformat": 4,
 "nbformat_minor": 4
}
